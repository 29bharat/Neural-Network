{
 "cells": [
  {
   "cell_type": "code",
   "execution_count": 1,
   "metadata": {},
   "outputs": [],
   "source": [
    "# Import our dependencies\n",
    "import pandas as pd\n",
    "import matplotlib as plt\n",
    "from sklearn.datasets import make_blobs\n",
    "import sklearn as skl\n",
    "import tensorflow as tf"
   ]
  },
  {
   "cell_type": "markdown",
   "metadata": {},
   "source": [
    "Linear Neural Network Model"
   ]
  },
  {
   "cell_type": "code",
   "execution_count": 2,
   "metadata": {},
   "outputs": [
    {
     "data": {
      "text/plain": [
       "<matplotlib.axes._subplots.AxesSubplot at 0x11559e48>"
      ]
     },
     "execution_count": 2,
     "metadata": {},
     "output_type": "execute_result"
    },
    {
     "data": {
      "image/png": "[encoded data removed]",
      "text/plain": [
       "<Figure size 432x288 with 2 Axes>"
      ]
     },
     "metadata": {
      "needs_background": "light"
     },
     "output_type": "display_data"
    }
   ],
   "source": [
    "# Generate dummy dataset\n",
    "X, y = make_blobs(n_samples=1000, centers=2, n_features=2, random_state=78)\n",
    "\n",
    "# Creating a DataFrame with the dummy data\n",
    "df = pd.DataFrame(X, columns=[\"Feature 1\", \"Feature 2\"])\n",
    "df[\"Target\"] = y\n",
    "\n",
    "# Plotting the dummy data\n",
    "df.plot.scatter(x=\"Feature 1\", y=\"Feature 2\", c=\"Target\", colormap=\"winter\")"
   ]
  },
  {
   "cell_type": "code",
   "execution_count": 3,
   "metadata": {},
   "outputs": [],
   "source": [
    "# Use sklearn to split dataset\n",
    "from sklearn.model_selection import train_test_split\n",
    "X_train, X_test, y_train, y_test = train_test_split(X, y, random_state=78)"
   ]
  },
  {
   "cell_type": "code",
   "execution_count": 4,
   "metadata": {},
   "outputs": [],
   "source": [
    "# Create scaler instance\n",
    "X_scaler = skl.preprocessing.StandardScaler()\n",
    "\n",
    "# Fit the scaler\n",
    "X_scaler.fit(X_train)\n",
    "\n",
    "# Scale the data\n",
    "X_train_scaled = X_scaler.transform(X_train)\n",
    "X_test_scaled = X_scaler.transform(X_test)"
   ]
  },
  {
   "cell_type": "code",
   "execution_count": 5,
   "metadata": {},
   "outputs": [],
   "source": [
    "# Create the Keras Sequential model\n",
    "nn_model = tf.keras.models.Sequential()"
   ]
  },
  {
   "cell_type": "code",
   "execution_count": 6,
   "metadata": {},
   "outputs": [],
   "source": [
    "# Add our first Dense layer, including the input layer\n",
    "nn_model.add(tf.keras.layers.Dense(units=1, activation=\"relu\", input_dim=2))"
   ]
  },
  {
   "cell_type": "code",
   "execution_count": 7,
   "metadata": {},
   "outputs": [],
   "source": [
    "# Add the output layer that uses a probability activation function\n",
    "nn_model.add(tf.keras.layers.Dense(units=1, activation=\"sigmoid\"))"
   ]
  },
  {
   "cell_type": "code",
   "execution_count": 8,
   "metadata": {},
   "outputs": [
    {
     "name": "stdout",
     "output_type": "stream",
     "text": [
      "Model: \"sequential\"\n",
      "_________________________________________________________________\n",
      "Layer (type)                 Output Shape              Param #   \n",
      "=================================================================\n",
      "dense (Dense)                (None, 1)                 3         \n",
      "_________________________________________________________________\n",
      "dense_1 (Dense)              (None, 1)                 2         \n",
      "=================================================================\n",
      "Total params: 5\n",
      "Trainable params: 5\n",
      "Non-trainable params: 0\n",
      "_________________________________________________________________\n"
     ]
    }
   ],
   "source": [
    "# Check the structure of the Sequential model\n",
    "nn_model.summary()"
   ]
  },
  {
   "cell_type": "code",
   "execution_count": 9,
   "metadata": {},
   "outputs": [],
   "source": [
    "# Compile the Sequential model together and customize metrics\n",
    "nn_model.compile(loss=\"binary_crossentropy\", optimizer=\"adam\", metrics=[\"accuracy\"])\n"
   ]
  },
  {
   "cell_type": "code",
   "execution_count": 10,
   "metadata": {},
   "outputs": [
    {
     "name": "stdout",
     "output_type": "stream",
     "text": [
      "Train on 750 samples\n",
      "Epoch 1/100\n",
      "750/750 [==============================] - 1s 1ms/sample - loss: 0.5803 - accuracy: 0.8373\n",
      "Epoch 2/100\n",
      "750/750 [==============================] - 0s 68us/sample - loss: 0.5663 - accuracy: 0.8547\n",
      "Epoch 3/100\n",
      "750/750 [==============================] - 0s 68us/sample - loss: 0.5520 - accuracy: 0.8733\n",
      "Epoch 4/100\n",
      "750/750 [==============================] - 0s 63us/sample - loss: 0.5378 - accuracy: 0.8800\n",
      "Epoch 5/100\n",
      "750/750 [==============================] - 0s 53us/sample - loss: 0.5239 - accuracy: 0.8853\n",
      "Epoch 6/100\n",
      "750/750 [==============================] - 0s 51us/sample - loss: 0.5102 - accuracy: 0.8920\n",
      "Epoch 7/100\n",
      "750/750 [==============================] - 0s 52us/sample - loss: 0.4968 - accuracy: 0.9040\n",
      "Epoch 8/100\n",
      "750/750 [==============================] - 0s 55us/sample - loss: 0.4838 - accuracy: 0.9067\n",
      "Epoch 9/100\n",
      "750/750 [==============================] - 0s 49us/sample - loss: 0.4710 - accuracy: 0.9133\n",
      "Epoch 10/100\n",
      "750/750 [==============================] - 0s 51us/sample - loss: 0.4587 - accuracy: 0.9200\n",
      "Epoch 11/100\n",
      "750/750 [==============================] - 0s 51us/sample - loss: 0.4468 - accuracy: 0.9227\n",
      "Epoch 12/100\n",
      "750/750 [==============================] - 0s 52us/sample - loss: 0.4352 - accuracy: 0.9280\n",
      "Epoch 13/100\n",
      "750/750 [==============================] - 0s 53us/sample - loss: 0.4240 - accuracy: 0.9320\n",
      "Epoch 14/100\n",
      "750/750 [==============================] - 0s 51us/sample - loss: 0.4130 - accuracy: 0.9373\n",
      "Epoch 15/100\n",
      "750/750 [==============================] - 0s 49us/sample - loss: 0.4024 - accuracy: 0.9400\n",
      "Epoch 16/100\n",
      "750/750 [==============================] - 0s 53us/sample - loss: 0.3920 - accuracy: 0.9440\n",
      "Epoch 17/100\n",
      "750/750 [==============================] - 0s 57us/sample - loss: 0.3819 - accuracy: 0.9467\n",
      "Epoch 18/100\n",
      "750/750 [==============================] - 0s 55us/sample - loss: 0.3720 - accuracy: 0.9573\n",
      "Epoch 19/100\n",
      "750/750 [==============================] - 0s 49us/sample - loss: 0.3625 - accuracy: 0.9587\n",
      "Epoch 20/100\n",
      "750/750 [==============================] - 0s 51us/sample - loss: 0.3534 - accuracy: 0.9613\n",
      "Epoch 21/100\n",
      "750/750 [==============================] - 0s 49us/sample - loss: 0.3445 - accuracy: 0.9640\n",
      "Epoch 22/100\n",
      "750/750 [==============================] - 0s 49us/sample - loss: 0.3359 - accuracy: 0.9667\n",
      "Epoch 23/100\n",
      "750/750 [==============================] - 0s 51us/sample - loss: 0.3277 - accuracy: 0.9693\n",
      "Epoch 24/100\n",
      "750/750 [==============================] - 0s 49us/sample - loss: 0.3197 - accuracy: 0.9707\n",
      "Epoch 25/100\n",
      "750/750 [==============================] - 0s 53us/sample - loss: 0.3120 - accuracy: 0.9720\n",
      "Epoch 26/100\n",
      "750/750 [==============================] - 0s 52us/sample - loss: 0.3046 - accuracy: 0.9747\n",
      "Epoch 27/100\n",
      "750/750 [==============================] - 0s 53us/sample - loss: 0.2973 - accuracy: 0.9747\n",
      "Epoch 28/100\n",
      "750/750 [==============================] - 0s 49us/sample - loss: 0.2903 - accuracy: 0.9760\n",
      "Epoch 29/100\n",
      "750/750 [==============================] - 0s 55us/sample - loss: 0.2834 - accuracy: 0.9773\n",
      "Epoch 30/100\n",
      "750/750 [==============================] - 0s 49us/sample - loss: 0.2767 - accuracy: 0.9773\n",
      "Epoch 31/100\n",
      "750/750 [==============================] - 0s 56us/sample - loss: 0.2702 - accuracy: 0.9787\n",
      "Epoch 32/100\n",
      "750/750 [==============================] - 0s 48us/sample - loss: 0.2639 - accuracy: 0.9813\n",
      "Epoch 33/100\n",
      "750/750 [==============================] - 0s 52us/sample - loss: 0.2578 - accuracy: 0.9827\n",
      "Epoch 34/100\n",
      "750/750 [==============================] - 0s 49us/sample - loss: 0.2517 - accuracy: 0.9840\n",
      "Epoch 35/100\n",
      "750/750 [==============================] - 0s 52us/sample - loss: 0.2458 - accuracy: 0.9840\n",
      "Epoch 36/100\n",
      "750/750 [==============================] - 0s 57us/sample - loss: 0.2401 - accuracy: 0.9840\n",
      "Epoch 37/100\n",
      "750/750 [==============================] - 0s 53us/sample - loss: 0.2346 - accuracy: 0.9853\n",
      "Epoch 38/100\n",
      "750/750 [==============================] - 0s 52us/sample - loss: 0.2291 - accuracy: 0.9853\n",
      "Epoch 39/100\n",
      "750/750 [==============================] - 0s 53us/sample - loss: 0.2240 - accuracy: 0.9853\n",
      "Epoch 40/100\n",
      "750/750 [==============================] - 0s 51us/sample - loss: 0.2189 - accuracy: 0.9853\n",
      "Epoch 41/100\n",
      "750/750 [==============================] - 0s 53us/sample - loss: 0.2140 - accuracy: 0.9867\n",
      "Epoch 42/100\n",
      "750/750 [==============================] - 0s 65us/sample - loss: 0.2093 - accuracy: 0.9867\n",
      "Epoch 43/100\n",
      "750/750 [==============================] - 0s 52us/sample - loss: 0.2046 - accuracy: 0.9867\n",
      "Epoch 44/100\n",
      "750/750 [==============================] - 0s 53us/sample - loss: 0.2001 - accuracy: 0.9880\n",
      "Epoch 45/100\n",
      "750/750 [==============================] - 0s 60us/sample - loss: 0.1958 - accuracy: 0.9907\n",
      "Epoch 46/100\n",
      "750/750 [==============================] - 0s 57us/sample - loss: 0.1916 - accuracy: 0.9920\n",
      "Epoch 47/100\n",
      "750/750 [==============================] - 0s 55us/sample - loss: 0.1875 - accuracy: 0.9933\n",
      "Epoch 48/100\n",
      "750/750 [==============================] - 0s 56us/sample - loss: 0.1835 - accuracy: 0.9947\n",
      "Epoch 49/100\n",
      "750/750 [==============================] - 0s 53us/sample - loss: 0.1796 - accuracy: 0.9960\n",
      "Epoch 50/100\n",
      "750/750 [==============================] - 0s 52us/sample - loss: 0.1759 - accuracy: 0.9960\n",
      "Epoch 51/100\n",
      "750/750 [==============================] - 0s 52us/sample - loss: 0.1722 - accuracy: 0.9960\n",
      "Epoch 52/100\n",
      "750/750 [==============================] - 0s 52us/sample - loss: 0.1687 - accuracy: 0.9960\n",
      "Epoch 53/100\n",
      "750/750 [==============================] - 0s 56us/sample - loss: 0.1652 - accuracy: 0.9960\n",
      "Epoch 54/100\n",
      "750/750 [==============================] - 0s 61us/sample - loss: 0.1618 - accuracy: 0.9960\n",
      "Epoch 55/100\n",
      "750/750 [==============================] - 0s 53us/sample - loss: 0.1586 - accuracy: 0.9960\n",
      "Epoch 56/100\n",
      "750/750 [==============================] - 0s 53us/sample - loss: 0.1554 - accuracy: 0.9960\n",
      "Epoch 57/100\n",
      "750/750 [==============================] - 0s 48us/sample - loss: 0.1523 - accuracy: 0.9973\n",
      "Epoch 58/100\n",
      "750/750 [==============================] - 0s 53us/sample - loss: 0.1493 - accuracy: 0.9973\n",
      "Epoch 59/100\n",
      "750/750 [==============================] - 0s 52us/sample - loss: 0.1464 - accuracy: 0.9973\n",
      "Epoch 60/100\n",
      "750/750 [==============================] - 0s 52us/sample - loss: 0.1436 - accuracy: 0.9987\n",
      "Epoch 61/100\n",
      "750/750 [==============================] - 0s 57us/sample - loss: 0.1409 - accuracy: 0.9987\n",
      "Epoch 62/100\n",
      "750/750 [==============================] - 0s 57us/sample - loss: 0.1382 - accuracy: 0.9987\n",
      "Epoch 63/100\n",
      "750/750 [==============================] - 0s 55us/sample - loss: 0.1356 - accuracy: 0.9987\n",
      "Epoch 64/100\n",
      "750/750 [==============================] - 0s 47us/sample - loss: 0.1330 - accuracy: 0.9987\n",
      "Epoch 65/100\n",
      "750/750 [==============================] - 0s 51us/sample - loss: 0.1306 - accuracy: 0.9987\n",
      "Epoch 66/100\n",
      "750/750 [==============================] - 0s 56us/sample - loss: 0.1282 - accuracy: 0.9987\n",
      "Epoch 67/100\n",
      "750/750 [==============================] - 0s 52us/sample - loss: 0.1258 - accuracy: 0.9987\n",
      "Epoch 68/100\n",
      "750/750 [==============================] - 0s 51us/sample - loss: 0.1235 - accuracy: 1.0000\n",
      "Epoch 69/100\n",
      "750/750 [==============================] - 0s 56us/sample - loss: 0.1212 - accuracy: 1.0000\n",
      "Epoch 70/100\n",
      "750/750 [==============================] - 0s 53us/sample - loss: 0.1191 - accuracy: 1.0000\n",
      "Epoch 71/100\n",
      "750/750 [==============================] - 0s 52us/sample - loss: 0.1170 - accuracy: 1.0000\n",
      "Epoch 72/100\n",
      "750/750 [==============================] - 0s 49us/sample - loss: 0.1150 - accuracy: 1.0000\n",
      "Epoch 73/100\n",
      "750/750 [==============================] - 0s 55us/sample - loss: 0.1129 - accuracy: 1.0000\n",
      "Epoch 74/100\n",
      "750/750 [==============================] - 0s 52us/sample - loss: 0.1110 - accuracy: 1.0000\n",
      "Epoch 75/100\n",
      "750/750 [==============================] - 0s 51us/sample - loss: 0.1091 - accuracy: 1.0000\n",
      "Epoch 76/100\n",
      "750/750 [==============================] - 0s 52us/sample - loss: 0.1072 - accuracy: 1.0000\n",
      "Epoch 77/100\n",
      "750/750 [==============================] - 0s 52us/sample - loss: 0.1054 - accuracy: 1.0000\n",
      "Epoch 78/100\n",
      "750/750 [==============================] - 0s 53us/sample - loss: 0.1036 - accuracy: 1.0000\n",
      "Epoch 79/100\n",
      "750/750 [==============================] - 0s 52us/sample - loss: 0.1019 - accuracy: 1.0000\n",
      "Epoch 80/100\n",
      "750/750 [==============================] - 0s 48us/sample - loss: 0.1002 - accuracy: 1.0000\n",
      "Epoch 81/100\n",
      "750/750 [==============================] - 0s 48us/sample - loss: 0.0985 - accuracy: 1.0000\n",
      "Epoch 82/100\n",
      "750/750 [==============================] - 0s 48us/sample - loss: 0.0969 - accuracy: 1.0000\n",
      "Epoch 83/100\n",
      "750/750 [==============================] - 0s 48us/sample - loss: 0.0953 - accuracy: 1.0000\n",
      "Epoch 84/100\n",
      "750/750 [==============================] - 0s 56us/sample - loss: 0.0938 - accuracy: 1.0000\n",
      "Epoch 85/100\n",
      "750/750 [==============================] - 0s 48us/sample - loss: 0.0923 - accuracy: 1.0000\n",
      "Epoch 86/100\n",
      "750/750 [==============================] - 0s 67us/sample - loss: 0.0908 - accuracy: 1.0000\n",
      "Epoch 87/100\n",
      "750/750 [==============================] - 0s 45us/sample - loss: 0.0894 - accuracy: 1.0000\n",
      "Epoch 88/100\n",
      "750/750 [==============================] - 0s 49us/sample - loss: 0.0879 - accuracy: 1.0000\n",
      "Epoch 89/100\n",
      "750/750 [==============================] - 0s 47us/sample - loss: 0.0866 - accuracy: 1.0000\n",
      "Epoch 90/100\n",
      "750/750 [==============================] - 0s 48us/sample - loss: 0.0852 - accuracy: 1.0000\n",
      "Epoch 91/100\n",
      "750/750 [==============================] - 0s 47us/sample - loss: 0.0839 - accuracy: 1.0000\n",
      "Epoch 92/100\n",
      "750/750 [==============================] - 0s 52us/sample - loss: 0.0826 - accuracy: 1.0000\n",
      "Epoch 93/100\n",
      "750/750 [==============================] - 0s 52us/sample - loss: 0.0813 - accuracy: 1.0000\n",
      "Epoch 94/100\n",
      "750/750 [==============================] - 0s 47us/sample - loss: 0.0801 - accuracy: 1.0000\n",
      "Epoch 95/100\n",
      "750/750 [==============================] - 0s 52us/sample - loss: 0.0788 - accuracy: 1.0000\n",
      "Epoch 96/100\n",
      "750/750 [==============================] - 0s 48us/sample - loss: 0.0776 - accuracy: 1.0000\n",
      "Epoch 97/100\n",
      "750/750 [==============================] - 0s 47us/sample - loss: 0.0765 - accuracy: 1.0000\n",
      "Epoch 98/100\n",
      "750/750 [==============================] - 0s 48us/sample - loss: 0.0753 - accuracy: 1.0000\n",
      "Epoch 99/100\n",
      "750/750 [==============================] - 0s 51us/sample - loss: 0.0742 - accuracy: 1.0000\n",
      "Epoch 100/100\n",
      "750/750 [==============================] - 0s 49us/sample - loss: 0.0731 - accuracy: 1.0000\n"
     ]
    }
   ],
   "source": [
    "# Fit the model to the training data\n",
    "fit_model = nn_model.fit(X_train_scaled, y_train, epochs=100)"
   ]
  },
  {
   "cell_type": "code",
   "execution_count": 11,
   "metadata": {},
   "outputs": [
    {
     "data": {
      "text/plain": [
       "<matplotlib.axes._subplots.AxesSubplot at 0x11c93ef0>"
      ]
     },
     "execution_count": 11,
     "metadata": {},
     "output_type": "execute_result"
    },
    {
     "data": {
      "image/png": "[encoded data removed]",
      "text/plain": [
       "<Figure size 432x288 with 1 Axes>"
      ]
     },
     "metadata": {
      "needs_background": "light"
     },
     "output_type": "display_data"
    }
   ],
   "source": [
    "# Create a DataFrame containing training history\n",
    "history_df = pd.DataFrame(fit_model.history, index=range(1,len(fit_model.history[\"loss\"])+1))\n",
    "\n",
    "# Plot the loss\n",
    "history_df.plot(y=\"loss\")"
   ]
  },
  {
   "cell_type": "code",
   "execution_count": 12,
   "metadata": {},
   "outputs": [
    {
     "data": {
      "text/plain": [
       "<matplotlib.axes._subplots.AxesSubplot at 0x11f39f98>"
      ]
     },
     "execution_count": 12,
     "metadata": {},
     "output_type": "execute_result"
    },
    {
     "data": {
      "image/png": "[encoded data removed]",
      "text/plain": [
       "<Figure size 432x288 with 1 Axes>"
      ]
     },
     "metadata": {
      "needs_background": "light"
     },
     "output_type": "display_data"
    }
   ],
   "source": [
    "# Plot the accuracy\n",
    "history_df.plot(y=\"accuracy\")"
   ]
  },
  {
   "cell_type": "code",
   "execution_count": 13,
   "metadata": {},
   "outputs": [
    {
     "name": "stdout",
     "output_type": "stream",
     "text": [
      "250/250 - 0s - loss: 0.0682 - accuracy: 1.0000\n",
      "Loss: 0.06823785841464997, Accuracy: 1.0\n"
     ]
    }
   ],
   "source": [
    "# Evaluate the model using the test data\n",
    "model_loss, model_accuracy = nn_model.evaluate(X_test_scaled,y_test,verbose=2)\n",
    "print(f\"Loss: {model_loss}, Accuracy: {model_accuracy}\")"
   ]
  },
  {
   "cell_type": "code",
   "execution_count": 14,
   "metadata": {},
   "outputs": [
    {
     "data": {
      "text/plain": [
       "array([[0],\n",
       "       [1],\n",
       "       [0],\n",
       "       [1],\n",
       "       [0],\n",
       "       [0],\n",
       "       [1],\n",
       "       [1],\n",
       "       [1],\n",
       "       [0]])"
      ]
     },
     "execution_count": 14,
     "metadata": {},
     "output_type": "execute_result"
    }
   ],
   "source": [
    "# Predict the classification of a new set of blob data\n",
    "new_X, new_Y = make_blobs(n_samples=10, centers=2, n_features=2, random_state=78)\n",
    "new_X_scaled = X_scaler.transform(new_X)\n",
    "nn_model.predict_classes(new_X_scaled)"
   ]
  },
  {
   "cell_type": "markdown",
   "metadata": {},
   "source": [
    "Non Linear Neural Network Model"
   ]
  },
  {
   "cell_type": "code",
   "execution_count": 15,
   "metadata": {},
   "outputs": [
    {
     "data": {
      "text/plain": [
       "<matplotlib.axes._subplots.AxesSubplot at 0x123b39e8>"
      ]
     },
     "execution_count": 15,
     "metadata": {},
     "output_type": "execute_result"
    },
    {
     "data": {
      "image/png": "[encoded data removed]",
      "text/plain": [
       "<Figure size 432x288 with 2 Axes>"
      ]
     },
     "metadata": {
      "needs_background": "light"
     },
     "output_type": "display_data"
    }
   ],
   "source": [
    "from sklearn.datasets import make_moons\n",
    "\n",
    "# Creating dummy nonlinear data\n",
    "X_moons, y_moons = make_moons(n_samples=1000, noise=0.08, random_state=78)\n",
    "\n",
    "# Transforming y_moons to a vertical vector\n",
    "y_moons = y_moons.reshape(-1, 1)\n",
    "\n",
    "# Creating a DataFrame to plot the nonlinear dummy data\n",
    "df_moons = pd.DataFrame(X_moons, columns=[\"Feature 1\", \"Feature 2\"])\n",
    "df_moons[\"Target\"] = y_moons\n",
    "\n",
    "# Plot the nonlinear dummy data\n",
    "df_moons.plot.scatter(x=\"Feature 1\",y=\"Feature 2\", c=\"Target\",colormap=\"winter\")"
   ]
  },
  {
   "cell_type": "code",
   "execution_count": 16,
   "metadata": {},
   "outputs": [],
   "source": [
    "# Create training and testing sets\n",
    "X_moon_train, X_moon_test, y_moon_train, y_moon_test = train_test_split(X_moons, y_moons, random_state=78)\n",
    "\n",
    "# Create the scaler instance\n",
    "X_moon_scaler = skl.preprocessing.StandardScaler()\n",
    "\n",
    "# Fit the scaler\n",
    "X_moon_scaler.fit(X_moon_train)\n",
    "\n",
    "# Scale the data\n",
    "X_moon_train_scaled = X_moon_scaler.transform(X_moon_train)\n",
    "X_moon_test_scaled = X_moon_scaler.transform(X_moon_test)"
   ]
  },
  {
   "cell_type": "code",
   "execution_count": 17,
   "metadata": {},
   "outputs": [],
   "source": [
    "# Compile the Sequential model together and customize metrics\n",
    "nn_model.compile(loss=\"binary_crossentropy\", optimizer=\"adam\", metrics=[\"accuracy\"])"
   ]
  },
  {
   "cell_type": "code",
   "execution_count": 18,
   "metadata": {},
   "outputs": [
    {
     "name": "stdout",
     "output_type": "stream",
     "text": [
      "Train on 750 samples\n",
      "Epoch 1/100\n",
      "750/750 [==============================] - 1s 795us/sample - loss: 1.1390 - accuracy: 0.4653\n",
      "Epoch 2/100\n",
      "750/750 [==============================] - 0s 55us/sample - loss: 1.0976 - accuracy: 0.4733\n",
      "Epoch 3/100\n",
      "750/750 [==============================] - 0s 56us/sample - loss: 1.0594 - accuracy: 0.4787\n",
      "Epoch 4/100\n",
      "750/750 [==============================] - 0s 53us/sample - loss: 1.0235 - accuracy: 0.4827\n",
      "Epoch 5/100\n",
      "750/750 [==============================] - 0s 51us/sample - loss: 0.9893 - accuracy: 0.4880\n",
      "Epoch 6/100\n",
      "750/750 [==============================] - 0s 53us/sample - loss: 0.9577 - accuracy: 0.4987\n",
      "Epoch 7/100\n",
      "750/750 [==============================] - 0s 52us/sample - loss: 0.9274 - accuracy: 0.5027\n",
      "Epoch 8/100\n",
      "750/750 [==============================] - 0s 52us/sample - loss: 0.8997 - accuracy: 0.5120\n",
      "Epoch 9/100\n",
      "750/750 [==============================] - 0s 51us/sample - loss: 0.8723 - accuracy: 0.5173\n",
      "Epoch 10/100\n",
      "750/750 [==============================] - 0s 52us/sample - loss: 0.8471 - accuracy: 0.5227\n",
      "Epoch 11/100\n",
      "750/750 [==============================] - 0s 61us/sample - loss: 0.8227 - accuracy: 0.5280\n",
      "Epoch 12/100\n",
      "750/750 [==============================] - 0s 55us/sample - loss: 0.7999 - accuracy: 0.5320\n",
      "Epoch 13/100\n",
      "750/750 [==============================] - 0s 48us/sample - loss: 0.7778 - accuracy: 0.5373\n",
      "Epoch 14/100\n",
      "750/750 [==============================] - 0s 52us/sample - loss: 0.7568 - accuracy: 0.5480\n",
      "Epoch 15/100\n",
      "750/750 [==============================] - 0s 53us/sample - loss: 0.7365 - accuracy: 0.5547\n",
      "Epoch 16/100\n",
      "750/750 [==============================] - 0s 53us/sample - loss: 0.7166 - accuracy: 0.5627\n",
      "Epoch 17/100\n",
      "750/750 [==============================] - 0s 60us/sample - loss: 0.6975 - accuracy: 0.5693\n",
      "Epoch 18/100\n",
      "750/750 [==============================] - 0s 55us/sample - loss: 0.6792 - accuracy: 0.5760\n",
      "Epoch 19/100\n",
      "750/750 [==============================] - 0s 53us/sample - loss: 0.6618 - accuracy: 0.5787\n",
      "Epoch 20/100\n",
      "750/750 [==============================] - 0s 52us/sample - loss: 0.6451 - accuracy: 0.5907\n",
      "Epoch 21/100\n",
      "750/750 [==============================] - 0s 53us/sample - loss: 0.6291 - accuracy: 0.5973\n",
      "Epoch 22/100\n",
      "750/750 [==============================] - 0s 53us/sample - loss: 0.6137 - accuracy: 0.6093\n",
      "Epoch 23/100\n",
      "750/750 [==============================] - 0s 59us/sample - loss: 0.5992 - accuracy: 0.6133\n",
      "Epoch 24/100\n",
      "750/750 [==============================] - 0s 53us/sample - loss: 0.5850 - accuracy: 0.6200\n",
      "Epoch 25/100\n",
      "750/750 [==============================] - 0s 55us/sample - loss: 0.5715 - accuracy: 0.6267\n",
      "Epoch 26/100\n",
      "750/750 [==============================] - 0s 48us/sample - loss: 0.5585 - accuracy: 0.6373\n",
      "Epoch 27/100\n",
      "750/750 [==============================] - 0s 51us/sample - loss: 0.5458 - accuracy: 0.6493\n",
      "Epoch 28/100\n",
      "750/750 [==============================] - 0s 53us/sample - loss: 0.5337 - accuracy: 0.6627\n",
      "Epoch 29/100\n",
      "750/750 [==============================] - 0s 55us/sample - loss: 0.5220 - accuracy: 0.6693\n",
      "Epoch 30/100\n",
      "750/750 [==============================] - 0s 55us/sample - loss: 0.5107 - accuracy: 0.6733\n",
      "Epoch 31/100\n",
      "750/750 [==============================] - 0s 51us/sample - loss: 0.5000 - accuracy: 0.6853\n",
      "Epoch 32/100\n",
      "750/750 [==============================] - 0s 53us/sample - loss: 0.4895 - accuracy: 0.6893\n",
      "Epoch 33/100\n",
      "750/750 [==============================] - 0s 53us/sample - loss: 0.4796 - accuracy: 0.7000\n",
      "Epoch 34/100\n",
      "750/750 [==============================] - 0s 53us/sample - loss: 0.4699 - accuracy: 0.7067\n",
      "Epoch 35/100\n",
      "750/750 [==============================] - 0s 53us/sample - loss: 0.4604 - accuracy: 0.7147\n",
      "Epoch 36/100\n",
      "750/750 [==============================] - 0s 49us/sample - loss: 0.4514 - accuracy: 0.7213\n",
      "Epoch 37/100\n",
      "750/750 [==============================] - 0s 56us/sample - loss: 0.4426 - accuracy: 0.7280\n",
      "Epoch 38/100\n",
      "750/750 [==============================] - 0s 49us/sample - loss: 0.4342 - accuracy: 0.7347\n",
      "Epoch 39/100\n",
      "750/750 [==============================] - 0s 53us/sample - loss: 0.4261 - accuracy: 0.7480\n",
      "Epoch 40/100\n",
      "750/750 [==============================] - 0s 53us/sample - loss: 0.4184 - accuracy: 0.7613\n",
      "Epoch 41/100\n",
      "750/750 [==============================] - 0s 49us/sample - loss: 0.4109 - accuracy: 0.7640\n",
      "Epoch 42/100\n",
      "750/750 [==============================] - 0s 59us/sample - loss: 0.4037 - accuracy: 0.7787\n",
      "Epoch 43/100\n",
      "750/750 [==============================] - 0s 52us/sample - loss: 0.3969 - accuracy: 0.7840\n",
      "Epoch 44/100\n",
      "750/750 [==============================] - 0s 53us/sample - loss: 0.3903 - accuracy: 0.7840\n",
      "Epoch 45/100\n",
      "750/750 [==============================] - 0s 55us/sample - loss: 0.3841 - accuracy: 0.7867\n",
      "Epoch 46/100\n",
      "750/750 [==============================] - 0s 55us/sample - loss: 0.3783 - accuracy: 0.7933\n",
      "Epoch 47/100\n",
      "750/750 [==============================] - 0s 52us/sample - loss: 0.3727 - accuracy: 0.7973\n",
      "Epoch 48/100\n",
      "750/750 [==============================] - 0s 51us/sample - loss: 0.3675 - accuracy: 0.7987\n",
      "Epoch 49/100\n",
      "750/750 [==============================] - 0s 53us/sample - loss: 0.3625 - accuracy: 0.8013\n",
      "Epoch 50/100\n",
      "750/750 [==============================] - 0s 56us/sample - loss: 0.3581 - accuracy: 0.8080\n",
      "Epoch 51/100\n",
      "750/750 [==============================] - 0s 68us/sample - loss: 0.3534 - accuracy: 0.8160\n",
      "Epoch 52/100\n",
      "750/750 [==============================] - 0s 57us/sample - loss: 0.3492 - accuracy: 0.8187\n",
      "Epoch 53/100\n",
      "750/750 [==============================] - 0s 67us/sample - loss: 0.3452 - accuracy: 0.8240\n",
      "Epoch 54/100\n",
      "750/750 [==============================] - 0s 84us/sample - loss: 0.3413 - accuracy: 0.8267\n",
      "Epoch 55/100\n",
      "750/750 [==============================] - 0s 65us/sample - loss: 0.3376 - accuracy: 0.8320\n",
      "Epoch 56/100\n",
      "750/750 [==============================] - 0s 67us/sample - loss: 0.3342 - accuracy: 0.8360\n",
      "Epoch 57/100\n",
      "750/750 [==============================] - 0s 59us/sample - loss: 0.3309 - accuracy: 0.8400\n",
      "Epoch 58/100\n",
      "750/750 [==============================] - 0s 49us/sample - loss: 0.3278 - accuracy: 0.8427\n",
      "Epoch 59/100\n",
      "750/750 [==============================] - 0s 57us/sample - loss: 0.3248 - accuracy: 0.8453\n",
      "Epoch 60/100\n",
      "750/750 [==============================] - 0s 52us/sample - loss: 0.3220 - accuracy: 0.8453\n",
      "Epoch 61/100\n",
      "750/750 [==============================] - 0s 55us/sample - loss: 0.3193 - accuracy: 0.8480\n",
      "Epoch 62/100\n",
      "750/750 [==============================] - 0s 51us/sample - loss: 0.3168 - accuracy: 0.8493\n",
      "Epoch 63/100\n",
      "750/750 [==============================] - 0s 52us/sample - loss: 0.3143 - accuracy: 0.8533\n",
      "Epoch 64/100\n",
      "750/750 [==============================] - 0s 55us/sample - loss: 0.3120 - accuracy: 0.8547\n",
      "Epoch 65/100\n",
      "750/750 [==============================] - 0s 53us/sample - loss: 0.3097 - accuracy: 0.8587\n",
      "Epoch 66/100\n",
      "750/750 [==============================] - 0s 53us/sample - loss: 0.3075 - accuracy: 0.8613\n",
      "Epoch 67/100\n",
      "750/750 [==============================] - 0s 51us/sample - loss: 0.3055 - accuracy: 0.8653\n",
      "Epoch 68/100\n",
      "750/750 [==============================] - 0s 55us/sample - loss: 0.3035 - accuracy: 0.8653\n",
      "Epoch 69/100\n",
      "750/750 [==============================] - 0s 52us/sample - loss: 0.3016 - accuracy: 0.8667\n",
      "Epoch 70/100\n",
      "750/750 [==============================] - 0s 52us/sample - loss: 0.2999 - accuracy: 0.8667\n",
      "Epoch 71/100\n",
      "750/750 [==============================] - 0s 51us/sample - loss: 0.2981 - accuracy: 0.8680\n",
      "Epoch 72/100\n",
      "750/750 [==============================] - 0s 52us/sample - loss: 0.2965 - accuracy: 0.8680\n",
      "Epoch 73/100\n",
      "750/750 [==============================] - 0s 52us/sample - loss: 0.2949 - accuracy: 0.8680\n",
      "Epoch 74/100\n",
      "750/750 [==============================] - 0s 49us/sample - loss: 0.2934 - accuracy: 0.8680\n",
      "Epoch 75/100\n",
      "750/750 [==============================] - 0s 56us/sample - loss: 0.2919 - accuracy: 0.8680\n",
      "Epoch 76/100\n",
      "750/750 [==============================] - 0s 52us/sample - loss: 0.2905 - accuracy: 0.8693\n",
      "Epoch 77/100\n",
      "750/750 [==============================] - 0s 56us/sample - loss: 0.2892 - accuracy: 0.8707\n",
      "Epoch 78/100\n"
     ]
    },
    {
     "name": "stdout",
     "output_type": "stream",
     "text": [
      "750/750 [==============================] - 0s 56us/sample - loss: 0.2879 - accuracy: 0.8707\n",
      "Epoch 79/100\n",
      "750/750 [==============================] - 0s 55us/sample - loss: 0.2866 - accuracy: 0.8707\n",
      "Epoch 80/100\n",
      "750/750 [==============================] - 0s 57us/sample - loss: 0.2855 - accuracy: 0.8720\n",
      "Epoch 81/100\n",
      "750/750 [==============================] - 0s 52us/sample - loss: 0.2843 - accuracy: 0.8720\n",
      "Epoch 82/100\n",
      "750/750 [==============================] - 0s 52us/sample - loss: 0.2833 - accuracy: 0.8747\n",
      "Epoch 83/100\n",
      "750/750 [==============================] - 0s 53us/sample - loss: 0.2823 - accuracy: 0.8747\n",
      "Epoch 84/100\n",
      "750/750 [==============================] - 0s 51us/sample - loss: 0.2812 - accuracy: 0.8760\n",
      "Epoch 85/100\n",
      "750/750 [==============================] - 0s 55us/sample - loss: 0.2804 - accuracy: 0.8787\n",
      "Epoch 86/100\n",
      "750/750 [==============================] - 0s 55us/sample - loss: 0.2793 - accuracy: 0.8787\n",
      "Epoch 87/100\n",
      "750/750 [==============================] - 0s 53us/sample - loss: 0.2785 - accuracy: 0.8787\n",
      "Epoch 88/100\n",
      "750/750 [==============================] - 0s 56us/sample - loss: 0.2776 - accuracy: 0.8800\n",
      "Epoch 89/100\n",
      "750/750 [==============================] - 0s 57us/sample - loss: 0.2767 - accuracy: 0.8800\n",
      "Epoch 90/100\n",
      "750/750 [==============================] - 0s 59us/sample - loss: 0.2760 - accuracy: 0.8813\n",
      "Epoch 91/100\n",
      "750/750 [==============================] - 0s 60us/sample - loss: 0.2751 - accuracy: 0.8827\n",
      "Epoch 92/100\n",
      "750/750 [==============================] - 0s 56us/sample - loss: 0.2744 - accuracy: 0.8853\n",
      "Epoch 93/100\n",
      "750/750 [==============================] - 0s 51us/sample - loss: 0.2737 - accuracy: 0.8853\n",
      "Epoch 94/100\n",
      "750/750 [==============================] - 0s 51us/sample - loss: 0.2730 - accuracy: 0.8853\n",
      "Epoch 95/100\n",
      "750/750 [==============================] - 0s 51us/sample - loss: 0.2723 - accuracy: 0.8880\n",
      "Epoch 96/100\n",
      "750/750 [==============================] - 0s 53us/sample - loss: 0.2716 - accuracy: 0.8893\n",
      "Epoch 97/100\n",
      "750/750 [==============================] - 0s 51us/sample - loss: 0.2710 - accuracy: 0.8893\n",
      "Epoch 98/100\n",
      "750/750 [==============================] - 0s 52us/sample - loss: 0.2704 - accuracy: 0.8907\n",
      "Epoch 99/100\n",
      "750/750 [==============================] - 0s 52us/sample - loss: 0.2698 - accuracy: 0.8907\n",
      "Epoch 100/100\n",
      "750/750 [==============================] - 0s 51us/sample - loss: 0.2692 - accuracy: 0.8907\n"
     ]
    }
   ],
   "source": [
    "# Training the model with the nonlinear data\n",
    "model_moon = nn_model.fit(X_moon_train_scaled, y_moon_train, epochs=100, shuffle=True)"
   ]
  },
  {
   "cell_type": "code",
   "execution_count": 19,
   "metadata": {},
   "outputs": [
    {
     "data": {
      "text/plain": [
       "<matplotlib.axes._subplots.AxesSubplot at 0x8a03908>"
      ]
     },
     "execution_count": 19,
     "metadata": {},
     "output_type": "execute_result"
    },
    {
     "data": {
      "image/png": "[encoded data removed]",
      "text/plain": [
       "<Figure size 432x288 with 1 Axes>"
      ]
     },
     "metadata": {
      "needs_background": "light"
     },
     "output_type": "display_data"
    }
   ],
   "source": [
    "# Create a DataFrame containing training history\n",
    "history_df = pd.DataFrame(model_moon.history, index=range(1,len(model_moon.history[\"loss\"])+1))\n",
    "\n",
    "# Plot the loss\n",
    "history_df.plot(y=\"loss\")"
   ]
  },
  {
   "cell_type": "code",
   "execution_count": 20,
   "metadata": {},
   "outputs": [
    {
     "data": {
      "text/plain": [
       "<matplotlib.axes._subplots.AxesSubplot at 0x8b6a550>"
      ]
     },
     "execution_count": 20,
     "metadata": {},
     "output_type": "execute_result"
    },
    {
     "data": {
      "image/png": "[encoded data removed]",
      "text/plain": [
       "<Figure size 432x288 with 1 Axes>"
      ]
     },
     "metadata": {
      "needs_background": "light"
     },
     "output_type": "display_data"
    }
   ],
   "source": [
    "# Plot the loss\n",
    "history_df.plot(y=\"accuracy\")"
   ]
  },
  {
   "cell_type": "code",
   "execution_count": 21,
   "metadata": {},
   "outputs": [],
   "source": [
    "# Generate our new Sequential model\n",
    "new_model = tf.keras.models.Sequential()"
   ]
  },
  {
   "cell_type": "code",
   "execution_count": 22,
   "metadata": {},
   "outputs": [],
   "source": [
    "# Add the input and hidden layer\n",
    "number_inputs = 2\n",
    "number_hidden_nodes = 6\n",
    "\n",
    "new_model.add(tf.keras.layers.Dense(units=number_hidden_nodes, activation=\"relu\", input_dim=number_inputs))\n",
    "\n",
    "# Add the output layer that uses a probability activation function\n",
    "new_model.add(tf.keras.layers.Dense(units=1, activation=\"sigmoid\"))"
   ]
  },
  {
   "cell_type": "code",
   "execution_count": 23,
   "metadata": {},
   "outputs": [
    {
     "name": "stdout",
     "output_type": "stream",
     "text": [
      "Train on 750 samples\n",
      "Epoch 1/100\n",
      "750/750 [==============================] - 1s 820us/sample - loss: 0.6756 - accuracy: 0.4720\n",
      "Epoch 2/100\n",
      "750/750 [==============================] - 0s 76us/sample - loss: 0.6435 - accuracy: 0.4493\n",
      "Epoch 3/100\n",
      "750/750 [==============================] - 0s 76us/sample - loss: 0.6139 - accuracy: 0.4747\n",
      "Epoch 4/100\n",
      "750/750 [==============================] - 0s 53us/sample - loss: 0.5853 - accuracy: 0.7453\n",
      "Epoch 5/100\n",
      "750/750 [==============================] - 0s 53us/sample - loss: 0.5590 - accuracy: 0.7827\n",
      "Epoch 6/100\n",
      "750/750 [==============================] - 0s 51us/sample - loss: 0.5333 - accuracy: 0.7920\n",
      "Epoch 7/100\n",
      "750/750 [==============================] - 0s 52us/sample - loss: 0.5093 - accuracy: 0.8053\n",
      "Epoch 8/100\n",
      "750/750 [==============================] - 0s 51us/sample - loss: 0.4871 - accuracy: 0.8147\n",
      "Epoch 9/100\n",
      "750/750 [==============================] - 0s 52us/sample - loss: 0.4659 - accuracy: 0.8227\n",
      "Epoch 10/100\n",
      "750/750 [==============================] - 0s 51us/sample - loss: 0.4465 - accuracy: 0.8280\n",
      "Epoch 11/100\n",
      "750/750 [==============================] - 0s 52us/sample - loss: 0.4288 - accuracy: 0.8307\n",
      "Epoch 12/100\n",
      "750/750 [==============================] - 0s 52us/sample - loss: 0.4127 - accuracy: 0.8373\n",
      "Epoch 13/100\n",
      "750/750 [==============================] - 0s 56us/sample - loss: 0.3983 - accuracy: 0.8400\n",
      "Epoch 14/100\n",
      "750/750 [==============================] - 0s 61us/sample - loss: 0.3851 - accuracy: 0.8427\n",
      "Epoch 15/100\n",
      "750/750 [==============================] - 0s 53us/sample - loss: 0.3729 - accuracy: 0.8453\n",
      "Epoch 16/100\n",
      "750/750 [==============================] - 0s 65us/sample - loss: 0.3621 - accuracy: 0.8493\n",
      "Epoch 17/100\n",
      "750/750 [==============================] - 0s 59us/sample - loss: 0.3520 - accuracy: 0.8533\n",
      "Epoch 18/100\n",
      "750/750 [==============================] - 0s 55us/sample - loss: 0.3429 - accuracy: 0.8573\n",
      "Epoch 19/100\n",
      "750/750 [==============================] - 0s 52us/sample - loss: 0.3346 - accuracy: 0.8627\n",
      "Epoch 20/100\n",
      "750/750 [==============================] - 0s 55us/sample - loss: 0.3269 - accuracy: 0.8653\n",
      "Epoch 21/100\n",
      "750/750 [==============================] - 0s 51us/sample - loss: 0.3199 - accuracy: 0.8693\n",
      "Epoch 22/100\n",
      "750/750 [==============================] - 0s 52us/sample - loss: 0.3132 - accuracy: 0.8733\n",
      "Epoch 23/100\n",
      "750/750 [==============================] - 0s 53us/sample - loss: 0.3070 - accuracy: 0.8747\n",
      "Epoch 24/100\n",
      "750/750 [==============================] - 0s 53us/sample - loss: 0.3013 - accuracy: 0.8747\n",
      "Epoch 25/100\n",
      "750/750 [==============================] - 0s 53us/sample - loss: 0.2957 - accuracy: 0.8747\n",
      "Epoch 26/100\n",
      "750/750 [==============================] - 0s 57us/sample - loss: 0.2905 - accuracy: 0.8747\n",
      "Epoch 27/100\n",
      "750/750 [==============================] - 0s 53us/sample - loss: 0.2855 - accuracy: 0.8747\n",
      "Epoch 28/100\n",
      "750/750 [==============================] - 0s 53us/sample - loss: 0.2808 - accuracy: 0.8760\n",
      "Epoch 29/100\n",
      "750/750 [==============================] - 0s 52us/sample - loss: 0.2763 - accuracy: 0.8813\n",
      "Epoch 30/100\n",
      "750/750 [==============================] - 0s 52us/sample - loss: 0.2721 - accuracy: 0.8840\n",
      "Epoch 31/100\n",
      "750/750 [==============================] - 0s 56us/sample - loss: 0.2681 - accuracy: 0.8867\n",
      "Epoch 32/100\n",
      "750/750 [==============================] - 0s 65us/sample - loss: 0.2645 - accuracy: 0.8920\n",
      "Epoch 33/100\n",
      "750/750 [==============================] - 0s 51us/sample - loss: 0.2612 - accuracy: 0.8947\n",
      "Epoch 34/100\n",
      "750/750 [==============================] - 0s 56us/sample - loss: 0.2579 - accuracy: 0.8960\n",
      "Epoch 35/100\n",
      "750/750 [==============================] - 0s 85us/sample - loss: 0.2548 - accuracy: 0.8973\n",
      "Epoch 36/100\n",
      "750/750 [==============================] - 0s 48us/sample - loss: 0.2520 - accuracy: 0.8973\n",
      "Epoch 37/100\n",
      "750/750 [==============================] - 0s 53us/sample - loss: 0.2492 - accuracy: 0.8973\n",
      "Epoch 38/100\n",
      "750/750 [==============================] - 0s 53us/sample - loss: 0.2466 - accuracy: 0.8973\n",
      "Epoch 39/100\n",
      "750/750 [==============================] - 0s 56us/sample - loss: 0.2442 - accuracy: 0.8987\n",
      "Epoch 40/100\n",
      "750/750 [==============================] - 0s 55us/sample - loss: 0.2419 - accuracy: 0.8987\n",
      "Epoch 41/100\n",
      "750/750 [==============================] - 0s 52us/sample - loss: 0.2398 - accuracy: 0.8987\n",
      "Epoch 42/100\n",
      "750/750 [==============================] - 0s 51us/sample - loss: 0.2379 - accuracy: 0.8987\n",
      "Epoch 43/100\n",
      "750/750 [==============================] - 0s 52us/sample - loss: 0.2360 - accuracy: 0.9000\n",
      "Epoch 44/100\n",
      "750/750 [==============================] - 0s 53us/sample - loss: 0.2342 - accuracy: 0.9027\n",
      "Epoch 45/100\n",
      "750/750 [==============================] - 0s 53us/sample - loss: 0.2326 - accuracy: 0.9013\n",
      "Epoch 46/100\n",
      "750/750 [==============================] - 0s 53us/sample - loss: 0.2311 - accuracy: 0.9013\n",
      "Epoch 47/100\n",
      "750/750 [==============================] - 0s 57us/sample - loss: 0.2297 - accuracy: 0.9013\n",
      "Epoch 48/100\n",
      "750/750 [==============================] - 0s 52us/sample - loss: 0.2280 - accuracy: 0.9040\n",
      "Epoch 49/100\n",
      "750/750 [==============================] - 0s 52us/sample - loss: 0.2268 - accuracy: 0.9040\n",
      "Epoch 50/100\n",
      "750/750 [==============================] - 0s 61us/sample - loss: 0.2254 - accuracy: 0.9067\n",
      "Epoch 51/100\n",
      "750/750 [==============================] - 0s 53us/sample - loss: 0.2242 - accuracy: 0.9093\n",
      "Epoch 52/100\n",
      "750/750 [==============================] - 0s 72us/sample - loss: 0.2228 - accuracy: 0.9093\n",
      "Epoch 53/100\n",
      "750/750 [==============================] - 0s 67us/sample - loss: 0.2215 - accuracy: 0.9093\n",
      "Epoch 54/100\n",
      "750/750 [==============================] - 0s 64us/sample - loss: 0.2201 - accuracy: 0.9107\n",
      "Epoch 55/100\n",
      "750/750 [==============================] - 0s 59us/sample - loss: 0.2188 - accuracy: 0.9107\n",
      "Epoch 56/100\n",
      "750/750 [==============================] - 0s 57us/sample - loss: 0.2174 - accuracy: 0.9133\n",
      "Epoch 57/100\n",
      "750/750 [==============================] - 0s 55us/sample - loss: 0.2160 - accuracy: 0.9147\n",
      "Epoch 58/100\n",
      "750/750 [==============================] - 0s 53us/sample - loss: 0.2147 - accuracy: 0.9147\n",
      "Epoch 59/100\n",
      "750/750 [==============================] - 0s 53us/sample - loss: 0.2131 - accuracy: 0.9160\n",
      "Epoch 60/100\n",
      "750/750 [==============================] - 0s 56us/sample - loss: 0.2117 - accuracy: 0.9147\n",
      "Epoch 61/100\n",
      "750/750 [==============================] - 0s 52us/sample - loss: 0.2102 - accuracy: 0.9160\n",
      "Epoch 62/100\n",
      "750/750 [==============================] - 0s 53us/sample - loss: 0.2087 - accuracy: 0.9160\n",
      "Epoch 63/100\n",
      "750/750 [==============================] - 0s 52us/sample - loss: 0.2072 - accuracy: 0.9187\n",
      "Epoch 64/100\n",
      "750/750 [==============================] - 0s 57us/sample - loss: 0.2057 - accuracy: 0.9200\n",
      "Epoch 65/100\n",
      "750/750 [==============================] - 0s 63us/sample - loss: 0.2042 - accuracy: 0.9200\n",
      "Epoch 66/100\n",
      "750/750 [==============================] - 0s 51us/sample - loss: 0.2027 - accuracy: 0.9200\n",
      "Epoch 67/100\n",
      "750/750 [==============================] - 0s 53us/sample - loss: 0.2011 - accuracy: 0.9200\n",
      "Epoch 68/100\n",
      "750/750 [==============================] - 0s 53us/sample - loss: 0.1996 - accuracy: 0.9200\n",
      "Epoch 69/100\n",
      "750/750 [==============================] - 0s 53us/sample - loss: 0.1979 - accuracy: 0.9200\n",
      "Epoch 70/100\n",
      "750/750 [==============================] - 0s 52us/sample - loss: 0.1964 - accuracy: 0.9227\n",
      "Epoch 71/100\n",
      "750/750 [==============================] - 0s 56us/sample - loss: 0.1948 - accuracy: 0.9240\n",
      "Epoch 72/100\n",
      "750/750 [==============================] - 0s 51us/sample - loss: 0.1932 - accuracy: 0.9240\n",
      "Epoch 73/100\n",
      "750/750 [==============================] - 0s 51us/sample - loss: 0.1914 - accuracy: 0.9253\n",
      "Epoch 74/100\n",
      "750/750 [==============================] - 0s 51us/sample - loss: 0.1897 - accuracy: 0.9253\n",
      "Epoch 75/100\n",
      "750/750 [==============================] - 0s 53us/sample - loss: 0.1881 - accuracy: 0.9253\n",
      "Epoch 76/100\n",
      "750/750 [==============================] - 0s 51us/sample - loss: 0.1863 - accuracy: 0.9253\n",
      "Epoch 77/100\n",
      "750/750 [==============================] - 0s 51us/sample - loss: 0.1846 - accuracy: 0.9307\n",
      "Epoch 78/100\n"
     ]
    },
    {
     "name": "stdout",
     "output_type": "stream",
     "text": [
      "750/750 [==============================] - 0s 55us/sample - loss: 0.1828 - accuracy: 0.9320\n",
      "Epoch 79/100\n",
      "750/750 [==============================] - 0s 59us/sample - loss: 0.1810 - accuracy: 0.9333\n",
      "Epoch 80/100\n",
      "750/750 [==============================] - 0s 49us/sample - loss: 0.1793 - accuracy: 0.9333\n",
      "Epoch 81/100\n",
      "750/750 [==============================] - 0s 49us/sample - loss: 0.1774 - accuracy: 0.9333\n",
      "Epoch 82/100\n",
      "750/750 [==============================] - 0s 48us/sample - loss: 0.1755 - accuracy: 0.9333\n",
      "Epoch 83/100\n",
      "750/750 [==============================] - 0s 47us/sample - loss: 0.1735 - accuracy: 0.9333\n",
      "Epoch 84/100\n",
      "750/750 [==============================] - 0s 49us/sample - loss: 0.1717 - accuracy: 0.9333\n",
      "Epoch 85/100\n",
      "750/750 [==============================] - 0s 48us/sample - loss: 0.1697 - accuracy: 0.9333\n",
      "Epoch 86/100\n",
      "750/750 [==============================] - 0s 48us/sample - loss: 0.1678 - accuracy: 0.9333\n",
      "Epoch 87/100\n",
      "750/750 [==============================] - 0s 68us/sample - loss: 0.1660 - accuracy: 0.9347\n",
      "Epoch 88/100\n",
      "750/750 [==============================] - 0s 61us/sample - loss: 0.1641 - accuracy: 0.9387\n",
      "Epoch 89/100\n",
      "750/750 [==============================] - 0s 68us/sample - loss: 0.1622 - accuracy: 0.9413\n",
      "Epoch 90/100\n",
      "750/750 [==============================] - 0s 77us/sample - loss: 0.1602 - accuracy: 0.9413\n",
      "Epoch 91/100\n",
      "750/750 [==============================] - 0s 53us/sample - loss: 0.1583 - accuracy: 0.9413\n",
      "Epoch 92/100\n",
      "750/750 [==============================] - 0s 60us/sample - loss: 0.1564 - accuracy: 0.9413\n",
      "Epoch 93/100\n",
      "750/750 [==============================] - 0s 59us/sample - loss: 0.1545 - accuracy: 0.9427\n",
      "Epoch 94/100\n",
      "750/750 [==============================] - 0s 48us/sample - loss: 0.1525 - accuracy: 0.9427\n",
      "Epoch 95/100\n",
      "750/750 [==============================] - 0s 48us/sample - loss: 0.1508 - accuracy: 0.9427\n",
      "Epoch 96/100\n",
      "750/750 [==============================] - 0s 48us/sample - loss: 0.1487 - accuracy: 0.9427\n",
      "Epoch 97/100\n",
      "750/750 [==============================] - 0s 49us/sample - loss: 0.1468 - accuracy: 0.9440\n",
      "Epoch 98/100\n",
      "750/750 [==============================] - 0s 49us/sample - loss: 0.1449 - accuracy: 0.9440\n",
      "Epoch 99/100\n",
      "750/750 [==============================] - 0s 52us/sample - loss: 0.1431 - accuracy: 0.9453\n",
      "Epoch 100/100\n",
      "750/750 [==============================] - 0s 51us/sample - loss: 0.1412 - accuracy: 0.9453\n"
     ]
    }
   ],
   "source": [
    "# Compile the Sequential model together and customize metrics\n",
    "new_model.compile(loss=\"binary_crossentropy\", optimizer=\"adam\", metrics=[\"accuracy\"])\n",
    "\n",
    "# Fit the model to the training data\n",
    "new_fit_model = new_model.fit(X_moon_train_scaled, y_moon_train, epochs=100, shuffle=True)\n"
   ]
  },
  {
   "cell_type": "code",
   "execution_count": null,
   "metadata": {},
   "outputs": [],
   "source": []
  }
 ],
 "metadata": {
  "kernelspec": {
   "display_name": "PythonData",
   "language": "python",
   "name": "pythondata"
  },
  "language_info": {
   "codemirror_mode": {
    "name": "ipython",
    "version": 3
   },
   "file_extension": ".py",
   "mimetype": "text/x-python",
   "name": "python",
   "nbconvert_exporter": "python",
   "pygments_lexer": "ipython3",
   "version": "3.6.10"
  }
 },
 "nbformat": 4,
 "nbformat_minor": 4
}
